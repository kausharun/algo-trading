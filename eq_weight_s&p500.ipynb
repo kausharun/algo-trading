{
 "cells": [
  {
   "cell_type": "code",
   "execution_count": 1,
   "id": "c3f8be4f-83f8-43de-9740-a7290f59286a",
   "metadata": {
    "tags": []
   },
   "outputs": [],
   "source": [
    "import numpy as np\n",
    "import pandas as pd\n",
    "import requests\n",
    "import xlsxwriter\n",
    "import math\n",
    "import yfinance as yf\n",
    "import bs4 as bs\n",
    "import datetime"
   ]
  },
  {
   "cell_type": "code",
   "execution_count": 2,
   "id": "5cbb58c8-1b7a-4223-8d12-ac1875623c37",
   "metadata": {
    "tags": []
   },
   "outputs": [],
   "source": [
    "# Read and print the stock tickers that make up S&P500\n",
    "response = requests.get('https://en.wikipedia.org/wiki/List_of_S%26P_500_companies')\n",
    "soup = bs.BeautifulSoup(response.text, 'lxml')\n",
    "table = soup.find('table', {'class': 'wikitable sortable'})"
   ]
  },
  {
   "cell_type": "code",
   "execution_count": 3,
   "id": "fdc8642e-ec9f-4822-8946-4d6c6f91e4d5",
   "metadata": {
    "tags": []
   },
   "outputs": [],
   "source": [
    "tickers = []\n",
    "for row in table.findAll('tr')[1:]:\n",
    "    ticker = row.findAll('td')[0].text\n",
    "    tickers.append(ticker)\n",
    "tickers = [s.replace('\\n', '') for s in tickers]"
   ]
  },
  {
   "cell_type": "code",
   "execution_count": 4,
   "id": "8c316536-d6fb-4fd2-afce-5bb669a80dad",
   "metadata": {
    "tags": []
   },
   "outputs": [],
   "source": [
    "#start_date = datetime.datetime(2023, 5, 1)\n",
    "#end_date = datetime.datetime(2024, 5, 1)\n",
    "#data = yf.download(tickers, start=start_date, end=end_date)\n",
    "#data"
   ]
  },
  {
   "cell_type": "code",
   "execution_count": 5,
   "id": "c901439a-da86-4532-9a82-21a7582af07a",
   "metadata": {
    "tags": []
   },
   "outputs": [],
   "source": [
    "#final_df.append(\n",
    "#    pd.Series(\n",
    "#        [\n",
    "#            symbol,\n",
    "#            price,\n",
    "#            marketCap,\n",
    "#            'N/A'\n",
    "#        ],\n",
    "#        index=df_columns\n",
    "#    ),\n",
    "#    ignore_index=True\n",
    "#)"
   ]
  },
  {
   "cell_type": "code",
   "execution_count": 6,
   "id": "0d064418-a553-49c9-a6da-2b51b23fc320",
   "metadata": {
    "tags": []
   },
   "outputs": [
    {
     "data": {
      "text/html": [
       "<div>\n",
       "<style scoped>\n",
       "    .dataframe tbody tr th:only-of-type {\n",
       "        vertical-align: middle;\n",
       "    }\n",
       "\n",
       "    .dataframe tbody tr th {\n",
       "        vertical-align: top;\n",
       "    }\n",
       "\n",
       "    .dataframe thead th {\n",
       "        text-align: right;\n",
       "    }\n",
       "</style>\n",
       "<table border=\"1\" class=\"dataframe\">\n",
       "  <thead>\n",
       "    <tr style=\"text-align: right;\">\n",
       "      <th></th>\n",
       "      <th>Ticker</th>\n",
       "    </tr>\n",
       "  </thead>\n",
       "  <tbody>\n",
       "    <tr>\n",
       "      <th>0</th>\n",
       "      <td>A</td>\n",
       "    </tr>\n",
       "    <tr>\n",
       "      <th>1</th>\n",
       "      <td>AAL</td>\n",
       "    </tr>\n",
       "    <tr>\n",
       "      <th>2</th>\n",
       "      <td>AAP</td>\n",
       "    </tr>\n",
       "    <tr>\n",
       "      <th>3</th>\n",
       "      <td>AAPL</td>\n",
       "    </tr>\n",
       "    <tr>\n",
       "      <th>4</th>\n",
       "      <td>ABBV</td>\n",
       "    </tr>\n",
       "    <tr>\n",
       "      <th>...</th>\n",
       "      <td>...</td>\n",
       "    </tr>\n",
       "    <tr>\n",
       "      <th>500</th>\n",
       "      <td>YUM</td>\n",
       "    </tr>\n",
       "    <tr>\n",
       "      <th>501</th>\n",
       "      <td>ZBH</td>\n",
       "    </tr>\n",
       "    <tr>\n",
       "      <th>502</th>\n",
       "      <td>ZBRA</td>\n",
       "    </tr>\n",
       "    <tr>\n",
       "      <th>503</th>\n",
       "      <td>ZION</td>\n",
       "    </tr>\n",
       "    <tr>\n",
       "      <th>504</th>\n",
       "      <td>ZTS</td>\n",
       "    </tr>\n",
       "  </tbody>\n",
       "</table>\n",
       "<p>505 rows × 1 columns</p>\n",
       "</div>"
      ],
      "text/plain": [
       "    Ticker\n",
       "0        A\n",
       "1      AAL\n",
       "2      AAP\n",
       "3     AAPL\n",
       "4     ABBV\n",
       "..     ...\n",
       "500    YUM\n",
       "501    ZBH\n",
       "502   ZBRA\n",
       "503   ZION\n",
       "504    ZTS\n",
       "\n",
       "[505 rows x 1 columns]"
      ]
     },
     "execution_count": 6,
     "metadata": {},
     "output_type": "execute_result"
    }
   ],
   "source": [
    "stocks = pd.read_csv('sp_500_stocks.csv')\n",
    "stocks"
   ]
  },
  {
   "cell_type": "code",
   "execution_count": 7,
   "id": "66518f7d-155d-4a61-8fc9-1c53eb6bf878",
   "metadata": {
    "tags": []
   },
   "outputs": [],
   "source": [
    "from secrets_1 import IEX_CLOUD_API_TOKEN"
   ]
  },
  {
   "cell_type": "code",
   "execution_count": 8,
   "id": "ba2ac909-9166-47e8-85a8-b85aa8b05137",
   "metadata": {
    "tags": []
   },
   "outputs": [
    {
     "name": "stdout",
     "output_type": "stream",
     "text": [
      "yfinance.Ticker object <BRK-B>\n"
     ]
    }
   ],
   "source": [
    "symbol = 'BRK-B'\n",
    "#token = 'LZ2CUPOJF3FIIQ8Q'\n",
    "#function = 'GLOBAL_QUOTE'\n",
    "#api_url = f'https://sandbox.iexapis.com/stable/stock/{symbol}/quote/?token={IEX_CLOUD_API_TOKEN}'\n",
    "#api_url = f'https://www.alphavantage.co/query?function={function}&symbol={symbol}&interval=5min&apikey={token}'\n",
    "#data = requests.get(api_url).json()\n",
    "data = yf.Ticker(symbol)\n",
    "#print(data.status_code)\n",
    "print(data)"
   ]
  },
  {
   "cell_type": "code",
   "execution_count": 9,
   "id": "d185fa92-2ad2-4be5-8286-9d79569b6503",
   "metadata": {
    "tags": []
   },
   "outputs": [
    {
     "name": "stdout",
     "output_type": "stream",
     "text": [
      "0.887574429696\n"
     ]
    }
   ],
   "source": [
    "# Get the historical prices for this ticker\n",
    "tickerDf = data.history(period='1d', start='2024-05-30', end='2024-05-31')\n",
    "marketCap= data.info['marketCap']\n",
    "price= tickerDf['Open'][0]\n",
    "\n",
    "print(marketCap/1000000000000)\n",
    "#price\n",
    "#tickerDf\n"
   ]
  },
  {
   "cell_type": "code",
   "execution_count": 10,
   "id": "96f4ce2b-d6e4-4733-bc17-dc7c35c40955",
   "metadata": {},
   "outputs": [
    {
     "data": {
      "text/html": [
       "<div>\n",
       "<style scoped>\n",
       "    .dataframe tbody tr th:only-of-type {\n",
       "        vertical-align: middle;\n",
       "    }\n",
       "\n",
       "    .dataframe tbody tr th {\n",
       "        vertical-align: top;\n",
       "    }\n",
       "\n",
       "    .dataframe thead th {\n",
       "        text-align: right;\n",
       "    }\n",
       "</style>\n",
       "<table border=\"1\" class=\"dataframe\">\n",
       "  <thead>\n",
       "    <tr style=\"text-align: right;\">\n",
       "      <th></th>\n",
       "      <th>Ticker</th>\n",
       "      <th>Stock Price</th>\n",
       "      <th>Market Cap</th>\n",
       "      <th># of shares to buy</th>\n",
       "    </tr>\n",
       "  </thead>\n",
       "  <tbody>\n",
       "  </tbody>\n",
       "</table>\n",
       "</div>"
      ],
      "text/plain": [
       "Empty DataFrame\n",
       "Columns: [Ticker, Stock Price, Market Cap, # of shares to buy]\n",
       "Index: []"
      ]
     },
     "execution_count": 10,
     "metadata": {},
     "output_type": "execute_result"
    }
   ],
   "source": [
    "df_columns = ['Ticker', 'Stock Price', 'Market Cap', '# of shares to buy']\n",
    "sample_df = pd.DataFrame(columns = df_columns)\n",
    "sample_df"
   ]
  },
  {
   "cell_type": "code",
   "execution_count": 11,
   "id": "dda374e0-77a4-4101-aff6-9d7f12745a0c",
   "metadata": {
    "tags": []
   },
   "outputs": [
    {
     "data": {
      "text/html": [
       "<div>\n",
       "<style scoped>\n",
       "    .dataframe tbody tr th:only-of-type {\n",
       "        vertical-align: middle;\n",
       "    }\n",
       "\n",
       "    .dataframe tbody tr th {\n",
       "        vertical-align: top;\n",
       "    }\n",
       "\n",
       "    .dataframe thead th {\n",
       "        text-align: right;\n",
       "    }\n",
       "</style>\n",
       "<table border=\"1\" class=\"dataframe\">\n",
       "  <thead>\n",
       "    <tr style=\"text-align: right;\">\n",
       "      <th></th>\n",
       "      <th>Ticker</th>\n",
       "      <th>Stock Price</th>\n",
       "      <th>Market Cap</th>\n",
       "      <th># of shares to buy</th>\n",
       "    </tr>\n",
       "  </thead>\n",
       "  <tbody>\n",
       "    <tr>\n",
       "      <th>0</th>\n",
       "      <td>BRK-B</td>\n",
       "      <td>403.769989</td>\n",
       "      <td>887574429696</td>\n",
       "      <td>N/A</td>\n",
       "    </tr>\n",
       "  </tbody>\n",
       "</table>\n",
       "</div>"
      ],
      "text/plain": [
       "  Ticker  Stock Price    Market Cap # of shares to buy\n",
       "0  BRK-B   403.769989  887574429696                N/A"
      ]
     },
     "execution_count": 11,
     "metadata": {},
     "output_type": "execute_result"
    }
   ],
   "source": [
    "sample_df.append(\n",
    "    pd.Series(\n",
    "        [\n",
    "            symbol,\n",
    "            price,\n",
    "            marketCap,\n",
    "            'N/A'\n",
    "        ],\n",
    "        index=df_columns\n",
    "    ),\n",
    "    ignore_index=True\n",
    ")"
   ]
  },
  {
   "cell_type": "code",
   "execution_count": 12,
   "id": "9d6cd023-4b4f-4934-a574-5bde3671a5dd",
   "metadata": {
    "tags": []
   },
   "outputs": [
    {
     "data": {
      "text/plain": [
       "887574429696"
      ]
     },
     "execution_count": 12,
     "metadata": {},
     "output_type": "execute_result"
    }
   ],
   "source": [
    "marketCap"
   ]
  },
  {
   "cell_type": "code",
   "execution_count": 20,
   "id": "59d86603-6195-4c6a-abec-e8d0d532f229",
   "metadata": {
    "tags": []
   },
   "outputs": [
    {
     "data": {
      "text/html": [
       "<div>\n",
       "<style scoped>\n",
       "    .dataframe tbody tr th:only-of-type {\n",
       "        vertical-align: middle;\n",
       "    }\n",
       "\n",
       "    .dataframe tbody tr th {\n",
       "        vertical-align: top;\n",
       "    }\n",
       "\n",
       "    .dataframe thead th {\n",
       "        text-align: right;\n",
       "    }\n",
       "</style>\n",
       "<table border=\"1\" class=\"dataframe\">\n",
       "  <thead>\n",
       "    <tr style=\"text-align: right;\">\n",
       "      <th></th>\n",
       "      <th>Ticker</th>\n",
       "      <th>Stock Price</th>\n",
       "      <th>Market Cap</th>\n",
       "      <th># of shares to buy</th>\n",
       "    </tr>\n",
       "  </thead>\n",
       "  <tbody>\n",
       "    <tr>\n",
       "      <th>0</th>\n",
       "      <td>MMM</td>\n",
       "      <td>97.690002</td>\n",
       "      <td>54566932480</td>\n",
       "      <td>N/A</td>\n",
       "    </tr>\n",
       "    <tr>\n",
       "      <th>1</th>\n",
       "      <td>AOS</td>\n",
       "      <td>81.260002</td>\n",
       "      <td>11916937216</td>\n",
       "      <td>N/A</td>\n",
       "    </tr>\n",
       "    <tr>\n",
       "      <th>2</th>\n",
       "      <td>ABT</td>\n",
       "      <td>101.279999</td>\n",
       "      <td>179929923584</td>\n",
       "      <td>N/A</td>\n",
       "    </tr>\n",
       "    <tr>\n",
       "      <th>3</th>\n",
       "      <td>ABBV</td>\n",
       "      <td>154.649994</td>\n",
       "      <td>286318166016</td>\n",
       "      <td>N/A</td>\n",
       "    </tr>\n",
       "    <tr>\n",
       "      <th>4</th>\n",
       "      <td>ACN</td>\n",
       "      <td>289.970001</td>\n",
       "      <td>181111685120</td>\n",
       "      <td>N/A</td>\n",
       "    </tr>\n",
       "    <tr>\n",
       "      <th>...</th>\n",
       "      <td>...</td>\n",
       "      <td>...</td>\n",
       "      <td>...</td>\n",
       "      <td>...</td>\n",
       "    </tr>\n",
       "    <tr>\n",
       "      <th>498</th>\n",
       "      <td>XYL</td>\n",
       "      <td>138.050003</td>\n",
       "      <td>33239486464</td>\n",
       "      <td>N/A</td>\n",
       "    </tr>\n",
       "    <tr>\n",
       "      <th>499</th>\n",
       "      <td>YUM</td>\n",
       "      <td>135.059998</td>\n",
       "      <td>39862190080</td>\n",
       "      <td>N/A</td>\n",
       "    </tr>\n",
       "    <tr>\n",
       "      <th>500</th>\n",
       "      <td>ZBRA</td>\n",
       "      <td>319.549988</td>\n",
       "      <td>15568250880</td>\n",
       "      <td>N/A</td>\n",
       "    </tr>\n",
       "    <tr>\n",
       "      <th>501</th>\n",
       "      <td>ZBH</td>\n",
       "      <td>115.459999</td>\n",
       "      <td>23337785344</td>\n",
       "      <td>N/A</td>\n",
       "    </tr>\n",
       "    <tr>\n",
       "      <th>502</th>\n",
       "      <td>ZTS</td>\n",
       "      <td>170.679993</td>\n",
       "      <td>78427987968</td>\n",
       "      <td>N/A</td>\n",
       "    </tr>\n",
       "  </tbody>\n",
       "</table>\n",
       "<p>503 rows × 4 columns</p>\n",
       "</div>"
      ],
      "text/plain": [
       "    Ticker  Stock Price    Market Cap # of shares to buy\n",
       "0      MMM    97.690002   54566932480                N/A\n",
       "1      AOS    81.260002   11916937216                N/A\n",
       "2      ABT   101.279999  179929923584                N/A\n",
       "3     ABBV   154.649994  286318166016                N/A\n",
       "4      ACN   289.970001  181111685120                N/A\n",
       "..     ...          ...           ...                ...\n",
       "498    XYL   138.050003   33239486464                N/A\n",
       "499    YUM   135.059998   39862190080                N/A\n",
       "500   ZBRA   319.549988   15568250880                N/A\n",
       "501    ZBH   115.459999   23337785344                N/A\n",
       "502    ZTS   170.679993   78427987968                N/A\n",
       "\n",
       "[503 rows x 4 columns]"
      ]
     },
     "execution_count": 20,
     "metadata": {},
     "output_type": "execute_result"
    }
   ],
   "source": [
    "# Loop thru every ticker in the csv\n",
    "full_df = pd.DataFrame(columns=df_columns)\n",
    "for symbol in tickers:\n",
    "    symbol = symbol.replace(\".\", \"-\")\n",
    "    data = yf.Ticker(symbol)\n",
    "    tickerDf = data.history(period='1d', start='2024-05-30', end='2024-05-31')\n",
    "    #print(symbol)\n",
    "    marketCap= data.info['marketCap']\n",
    "    price= tickerDf['Open'][0]\n",
    "    full_df = full_df.append(\n",
    "        pd.Series(\n",
    "        [\n",
    "            symbol,\n",
    "            price,\n",
    "            marketCap,\n",
    "            'N/A'\n",
    "        ],\n",
    "        index=df_columns\n",
    "        ),\n",
    "        ignore_index=True\n",
    "    )\n",
    "    \n",
    "full_df"
   ]
  },
  {
   "cell_type": "code",
   "execution_count": null,
   "id": "753d11ff-6600-4375-9cc2-94b1faa28f64",
   "metadata": {},
   "outputs": [],
   "source": []
  }
 ],
 "metadata": {
  "kernelspec": {
   "display_name": "Python 3 (ipykernel)",
   "language": "python",
   "name": "python3"
  },
  "language_info": {
   "codemirror_mode": {
    "name": "ipython",
    "version": 3
   },
   "file_extension": ".py",
   "mimetype": "text/x-python",
   "name": "python",
   "nbconvert_exporter": "python",
   "pygments_lexer": "ipython3",
   "version": "3.7.4"
  }
 },
 "nbformat": 4,
 "nbformat_minor": 5
}
