{
 "cells": [
  {
   "cell_type": "code",
   "execution_count": 36,
   "id": "c3f8be4f-83f8-43de-9740-a7290f59286a",
   "metadata": {
    "tags": []
   },
   "outputs": [],
   "source": [
    "import json\n",
    "import numpy as np\n",
    "import pandas as pd\n",
    "import requests\n",
    "import xlsxwriter\n",
    "import math\n",
    "#import yfinance as yf\n",
    "import bs4 as bs\n",
    "import datetime"
   ]
  },
  {
   "cell_type": "code",
   "execution_count": 37,
   "id": "5cbb58c8-1b7a-4223-8d12-ac1875623c37",
   "metadata": {
    "tags": []
   },
   "outputs": [],
   "source": [
    "# Read and print the stock tickers that make up S&P500\n",
    "response = requests.get('https://en.wikipedia.org/wiki/List_of_S%26P_500_companies')\n",
    "soup = bs.BeautifulSoup(response.text, 'lxml')\n",
    "table = soup.find('table', {'class': 'wikitable sortable'})"
   ]
  },
  {
   "cell_type": "code",
   "execution_count": 75,
   "id": "fdc8642e-ec9f-4822-8946-4d6c6f91e4d5",
   "metadata": {
    "tags": []
   },
   "outputs": [
    {
     "data": {
      "text/plain": [
       "0"
      ]
     },
     "execution_count": 75,
     "metadata": {},
     "output_type": "execute_result"
    }
   ],
   "source": [
    "tickers = []\n",
    "for row in table.findAll('tr')[1:]:\n",
    "    ticker = row.findAll('td')[0].text\n",
    "    tickers.append(ticker)\n",
    "tickers = [s.replace('\\n', '') for s in tickers]\n",
    "tickers = sorted(tickers)\n",
    "stocks = pd.DataFrame(tickers, columns=['Ticker'])\n",
    "tickers.index('A') #= ', '.join(tickers)"
   ]
  },
  {
   "cell_type": "code",
   "execution_count": 81,
   "id": "ba2ac909-9166-47e8-85a8-b85aa8b05137",
   "metadata": {
    "tags": []
   },
   "outputs": [
    {
     "data": {
      "text/plain": [
       "2"
      ]
     },
     "execution_count": 81,
     "metadata": {},
     "output_type": "execute_result"
    }
   ],
   "source": [
    "# api request\n",
    "symbol = 'AAPL'\n",
    "token = '1xAmWTsYoKxpEBAgSErNPSb3rAdmeGxL'\n",
    "api_url = f'https://financialmodelingprep.com/api/v3/quote/{symbol}?apikey={token}'\n",
    "\n",
    "session = requests.session()\n",
    "request = session.get(api_url, timeout=15)\n",
    "data = request.json()\n",
    "#data#[0]['price']\n",
    "#print(data)\n",
    "tickers.index(symbol)"
   ]
  },
  {
   "cell_type": "code",
   "execution_count": 84,
   "id": "d185fa92-2ad2-4be5-8286-9d79569b6503",
   "metadata": {
    "tags": []
   },
   "outputs": [
    {
     "name": "stdout",
     "output_type": "stream",
     "text": [
      "2.980182335\n"
     ]
    }
   ],
   "source": [
    "# Get the prices and info for this ticker\n",
    "marketCap= data[list(symbol.split(\",\")).index(symbol)]['marketCap']\n",
    "price= data[list(symbol.split(\",\")).index(symbol)]['price']\n",
    "\n",
    "print(marketCap/1000000000000)\n",
    "#price\n",
    "#tickerDf\n"
   ]
  },
  {
   "cell_type": "code",
   "execution_count": 85,
   "id": "96f4ce2b-d6e4-4733-bc17-dc7c35c40955",
   "metadata": {},
   "outputs": [
    {
     "data": {
      "text/html": [
       "<div>\n",
       "<style scoped>\n",
       "    .dataframe tbody tr th:only-of-type {\n",
       "        vertical-align: middle;\n",
       "    }\n",
       "\n",
       "    .dataframe tbody tr th {\n",
       "        vertical-align: top;\n",
       "    }\n",
       "\n",
       "    .dataframe thead th {\n",
       "        text-align: right;\n",
       "    }\n",
       "</style>\n",
       "<table border=\"1\" class=\"dataframe\">\n",
       "  <thead>\n",
       "    <tr style=\"text-align: right;\">\n",
       "      <th></th>\n",
       "      <th>Ticker</th>\n",
       "      <th>Stock Price</th>\n",
       "      <th>Market Cap</th>\n",
       "      <th># of shares to buy</th>\n",
       "    </tr>\n",
       "  </thead>\n",
       "  <tbody>\n",
       "  </tbody>\n",
       "</table>\n",
       "</div>"
      ],
      "text/plain": [
       "Empty DataFrame\n",
       "Columns: [Ticker, Stock Price, Market Cap, # of shares to buy]\n",
       "Index: []"
      ]
     },
     "execution_count": 85,
     "metadata": {},
     "output_type": "execute_result"
    }
   ],
   "source": [
    "df_columns = ['Ticker', 'Stock Price', 'Market Cap', '# of shares to buy']\n",
    "sample_df = pd.DataFrame(columns = df_columns)\n",
    "sample_df"
   ]
  },
  {
   "cell_type": "code",
   "execution_count": 86,
   "id": "dda374e0-77a4-4101-aff6-9d7f12745a0c",
   "metadata": {
    "tags": []
   },
   "outputs": [
    {
     "data": {
      "text/html": [
       "<div>\n",
       "<style scoped>\n",
       "    .dataframe tbody tr th:only-of-type {\n",
       "        vertical-align: middle;\n",
       "    }\n",
       "\n",
       "    .dataframe tbody tr th {\n",
       "        vertical-align: top;\n",
       "    }\n",
       "\n",
       "    .dataframe thead th {\n",
       "        text-align: right;\n",
       "    }\n",
       "</style>\n",
       "<table border=\"1\" class=\"dataframe\">\n",
       "  <thead>\n",
       "    <tr style=\"text-align: right;\">\n",
       "      <th></th>\n",
       "      <th>Ticker</th>\n",
       "      <th>Stock Price</th>\n",
       "      <th>Market Cap</th>\n",
       "      <th># of shares to buy</th>\n",
       "    </tr>\n",
       "  </thead>\n",
       "  <tbody>\n",
       "    <tr>\n",
       "      <th>0</th>\n",
       "      <td>AAPL</td>\n",
       "      <td>194.35</td>\n",
       "      <td>2980182335000</td>\n",
       "      <td>N/A</td>\n",
       "    </tr>\n",
       "  </tbody>\n",
       "</table>\n",
       "</div>"
      ],
      "text/plain": [
       "  Ticker  Stock Price     Market Cap # of shares to buy\n",
       "0   AAPL       194.35  2980182335000                N/A"
      ]
     },
     "execution_count": 86,
     "metadata": {},
     "output_type": "execute_result"
    }
   ],
   "source": [
    "sample_df.append(\n",
    "    pd.Series(\n",
    "        [\n",
    "            symbol,\n",
    "            price,\n",
    "            marketCap,\n",
    "            'N/A'\n",
    "        ],\n",
    "        index=df_columns\n",
    "    ),\n",
    "    ignore_index=True\n",
    ")"
   ]
  },
  {
   "cell_type": "code",
   "execution_count": 87,
   "id": "9d6cd023-4b4f-4934-a574-5bde3671a5dd",
   "metadata": {
    "tags": []
   },
   "outputs": [
    {
     "data": {
      "text/plain": [
       "2980182335000"
      ]
     },
     "execution_count": 87,
     "metadata": {},
     "output_type": "execute_result"
    }
   ],
   "source": [
    "marketCap"
   ]
  },
  {
   "cell_type": "code",
   "execution_count": 88,
   "id": "59d86603-6195-4c6a-abec-e8d0d532f229",
   "metadata": {
    "tags": []
   },
   "outputs": [
    {
     "data": {
      "text/html": [
       "<div>\n",
       "<style scoped>\n",
       "    .dataframe tbody tr th:only-of-type {\n",
       "        vertical-align: middle;\n",
       "    }\n",
       "\n",
       "    .dataframe tbody tr th {\n",
       "        vertical-align: top;\n",
       "    }\n",
       "\n",
       "    .dataframe thead th {\n",
       "        text-align: right;\n",
       "    }\n",
       "</style>\n",
       "<table border=\"1\" class=\"dataframe\">\n",
       "  <thead>\n",
       "    <tr style=\"text-align: right;\">\n",
       "      <th></th>\n",
       "      <th>Ticker</th>\n",
       "      <th>Stock Price</th>\n",
       "      <th>Market Cap</th>\n",
       "      <th># of shares to buy</th>\n",
       "    </tr>\n",
       "  </thead>\n",
       "  <tbody>\n",
       "    <tr>\n",
       "      <th>0</th>\n",
       "      <td>A</td>\n",
       "      <td>125.30</td>\n",
       "      <td>38176927744</td>\n",
       "      <td>N/A</td>\n",
       "    </tr>\n",
       "    <tr>\n",
       "      <th>1</th>\n",
       "      <td>AAL</td>\n",
       "      <td>11.76</td>\n",
       "      <td>7568000000</td>\n",
       "      <td>N/A</td>\n",
       "    </tr>\n",
       "    <tr>\n",
       "      <th>2</th>\n",
       "      <td>AAPL</td>\n",
       "      <td>190.76</td>\n",
       "      <td>2980182491136</td>\n",
       "      <td>N/A</td>\n",
       "    </tr>\n",
       "    <tr>\n",
       "      <th>3</th>\n",
       "      <td>ABBV</td>\n",
       "      <td>154.65</td>\n",
       "      <td>286318166016</td>\n",
       "      <td>N/A</td>\n",
       "    </tr>\n",
       "    <tr>\n",
       "      <th>4</th>\n",
       "      <td>ABNB</td>\n",
       "      <td>145.40</td>\n",
       "      <td>93372858368</td>\n",
       "      <td>N/A</td>\n",
       "    </tr>\n",
       "    <tr>\n",
       "      <th>...</th>\n",
       "      <td>...</td>\n",
       "      <td>...</td>\n",
       "      <td>...</td>\n",
       "      <td>...</td>\n",
       "    </tr>\n",
       "    <tr>\n",
       "      <th>498</th>\n",
       "      <td>XYL</td>\n",
       "      <td>138.05</td>\n",
       "      <td>33239486464</td>\n",
       "      <td>N/A</td>\n",
       "    </tr>\n",
       "    <tr>\n",
       "      <th>499</th>\n",
       "      <td>YUM</td>\n",
       "      <td>135.06</td>\n",
       "      <td>39862190080</td>\n",
       "      <td>N/A</td>\n",
       "    </tr>\n",
       "    <tr>\n",
       "      <th>500</th>\n",
       "      <td>ZBH</td>\n",
       "      <td>115.46</td>\n",
       "      <td>23337785344</td>\n",
       "      <td>N/A</td>\n",
       "    </tr>\n",
       "    <tr>\n",
       "      <th>501</th>\n",
       "      <td>ZBRA</td>\n",
       "      <td>319.55</td>\n",
       "      <td>15568250880</td>\n",
       "      <td>N/A</td>\n",
       "    </tr>\n",
       "    <tr>\n",
       "      <th>502</th>\n",
       "      <td>ZTS</td>\n",
       "      <td>170.68</td>\n",
       "      <td>78427987968</td>\n",
       "      <td>N/A</td>\n",
       "    </tr>\n",
       "  </tbody>\n",
       "</table>\n",
       "<p>503 rows × 4 columns</p>\n",
       "</div>"
      ],
      "text/plain": [
       "    Ticker  Stock Price     Market Cap # of shares to buy\n",
       "0        A       125.30    38176927744                N/A\n",
       "1      AAL        11.76     7568000000                N/A\n",
       "2     AAPL       190.76  2980182491136                N/A\n",
       "3     ABBV       154.65   286318166016                N/A\n",
       "4     ABNB       145.40    93372858368                N/A\n",
       "..     ...          ...            ...                ...\n",
       "498    XYL       138.05    33239486464                N/A\n",
       "499    YUM       135.06    39862190080                N/A\n",
       "500    ZBH       115.46    23337785344                N/A\n",
       "501   ZBRA       319.55    15568250880                N/A\n",
       "502    ZTS       170.68    78427987968                N/A\n",
       "\n",
       "[503 rows x 4 columns]"
      ]
     },
     "execution_count": 88,
     "metadata": {},
     "output_type": "execute_result"
    }
   ],
   "source": [
    "# Loop thru every ticker in the csv\n",
    "full_df = pd.DataFrame(columns=df_columns)\n",
    "for symbol in stocks['Ticker']:\n",
    "    symbol = symbol.replace(\".\", \"-\")\n",
    "    data = yf.Ticker(symbol)\n",
    "    tickerDf = data.history(period='1d', start='2024-05-30', end='2024-05-31')\n",
    "    #print(symbol)\n",
    "    marketCap= data.info['marketCap']\n",
    "    price= round(tickerDf['Open'][0],2)\n",
    "    full_df = full_df.append(\n",
    "        pd.Series(\n",
    "        [\n",
    "            symbol,\n",
    "            price,\n",
    "            marketCap,\n",
    "            'N/A'\n",
    "        ],\n",
    "        index=df_columns\n",
    "        ),\n",
    "        ignore_index=True\n",
    "    )\n",
    "    \n",
    "full_df"
   ]
  },
  {
   "cell_type": "code",
   "execution_count": 89,
   "id": "753d11ff-6600-4375-9cc2-94b1faa28f64",
   "metadata": {
    "tags": []
   },
   "outputs": [],
   "source": [
    "def chunks(lst, n):\n",
    "    \"\"\"Yield successive n-sized chunks from lst.\"\"\"\n",
    "    for i in range(0, len(lst), n):\n",
    "        yield lst[i:i + n]"
   ]
  },
  {
   "cell_type": "code",
   "execution_count": 93,
   "id": "c3f19821-1d7b-48b2-b94b-8fe2b36902b4",
   "metadata": {
    "tags": []
   },
   "outputs": [
    {
     "data": {
      "text/html": [
       "<div>\n",
       "<style scoped>\n",
       "    .dataframe tbody tr th:only-of-type {\n",
       "        vertical-align: middle;\n",
       "    }\n",
       "\n",
       "    .dataframe tbody tr th {\n",
       "        vertical-align: top;\n",
       "    }\n",
       "\n",
       "    .dataframe thead th {\n",
       "        text-align: right;\n",
       "    }\n",
       "</style>\n",
       "<table border=\"1\" class=\"dataframe\">\n",
       "  <thead>\n",
       "    <tr style=\"text-align: right;\">\n",
       "      <th></th>\n",
       "      <th>Ticker</th>\n",
       "      <th>Stock Price</th>\n",
       "      <th>Market Cap</th>\n",
       "      <th># of shares to buy</th>\n",
       "    </tr>\n",
       "  </thead>\n",
       "  <tbody>\n",
       "    <tr>\n",
       "      <th>0</th>\n",
       "      <td>A</td>\n",
       "      <td>194.35</td>\n",
       "      <td>2980182335000</td>\n",
       "      <td>N/A</td>\n",
       "    </tr>\n",
       "    <tr>\n",
       "      <th>1</th>\n",
       "      <td>AAL</td>\n",
       "      <td>194.35</td>\n",
       "      <td>2980182335000</td>\n",
       "      <td>N/A</td>\n",
       "    </tr>\n",
       "    <tr>\n",
       "      <th>2</th>\n",
       "      <td>AAPL</td>\n",
       "      <td>194.35</td>\n",
       "      <td>2980182335000</td>\n",
       "      <td>N/A</td>\n",
       "    </tr>\n",
       "    <tr>\n",
       "      <th>3</th>\n",
       "      <td>ABBV</td>\n",
       "      <td>194.35</td>\n",
       "      <td>2980182335000</td>\n",
       "      <td>N/A</td>\n",
       "    </tr>\n",
       "    <tr>\n",
       "      <th>4</th>\n",
       "      <td>ABNB</td>\n",
       "      <td>194.35</td>\n",
       "      <td>2980182335000</td>\n",
       "      <td>N/A</td>\n",
       "    </tr>\n",
       "    <tr>\n",
       "      <th>...</th>\n",
       "      <td>...</td>\n",
       "      <td>...</td>\n",
       "      <td>...</td>\n",
       "      <td>...</td>\n",
       "    </tr>\n",
       "    <tr>\n",
       "      <th>95</th>\n",
       "      <td>CINF</td>\n",
       "      <td>194.35</td>\n",
       "      <td>2980182335000</td>\n",
       "      <td>N/A</td>\n",
       "    </tr>\n",
       "    <tr>\n",
       "      <th>96</th>\n",
       "      <td>CL</td>\n",
       "      <td>194.35</td>\n",
       "      <td>2980182335000</td>\n",
       "      <td>N/A</td>\n",
       "    </tr>\n",
       "    <tr>\n",
       "      <th>97</th>\n",
       "      <td>CLX</td>\n",
       "      <td>194.35</td>\n",
       "      <td>2980182335000</td>\n",
       "      <td>N/A</td>\n",
       "    </tr>\n",
       "    <tr>\n",
       "      <th>98</th>\n",
       "      <td>CMA</td>\n",
       "      <td>194.35</td>\n",
       "      <td>2980182335000</td>\n",
       "      <td>N/A</td>\n",
       "    </tr>\n",
       "    <tr>\n",
       "      <th>99</th>\n",
       "      <td>CMCSA</td>\n",
       "      <td>194.35</td>\n",
       "      <td>2980182335000</td>\n",
       "      <td>N/A</td>\n",
       "    </tr>\n",
       "  </tbody>\n",
       "</table>\n",
       "<p>100 rows × 4 columns</p>\n",
       "</div>"
      ],
      "text/plain": [
       "   Ticker  Stock Price     Market Cap # of shares to buy\n",
       "0       A       194.35  2980182335000                N/A\n",
       "1     AAL       194.35  2980182335000                N/A\n",
       "2    AAPL       194.35  2980182335000                N/A\n",
       "3    ABBV       194.35  2980182335000                N/A\n",
       "4    ABNB       194.35  2980182335000                N/A\n",
       "..    ...          ...            ...                ...\n",
       "95   CINF       194.35  2980182335000                N/A\n",
       "96     CL       194.35  2980182335000                N/A\n",
       "97    CLX       194.35  2980182335000                N/A\n",
       "98    CMA       194.35  2980182335000                N/A\n",
       "99  CMCSA       194.35  2980182335000                N/A\n",
       "\n",
       "[100 rows x 4 columns]"
      ]
     },
     "execution_count": 93,
     "metadata": {},
     "output_type": "execute_result"
    }
   ],
   "source": [
    "# 100 company chunks\n",
    "symbol_chunks = list(chunks(stocks['Ticker'], 100))\n",
    "#symbol_chunk\n",
    "symbol_strings = []\n",
    "for i in range(len(symbol_chunks)):\n",
    "    symbol_strings.append(','.join(symbol_chunks[i]))\n",
    "    \n",
    "final_df = pd.DataFrame(columns=df_columns)\n",
    "\n",
    "for symbol_string in symbol_strings[:1]:\n",
    "    batch_api_url = f'https://financialmodelingprep.com/api/v3/quote/{symbol_string}?apikey={token}'\n",
    "    session = requests.session()\n",
    "    request = session.get(api_url, timeout=15)\n",
    "    data = request.json()\n",
    "    \n",
    "    for symbol in symbol_string.split(','):\n",
    "        final_df = final_df.append(\n",
    "            pd.Series(\n",
    "            [\n",
    "                symbol,\n",
    "                data[list(symbol.split(\",\")).index(symbol)]['price'],\n",
    "                data[list(symbol.split(\",\")).index(symbol)]['marketCap'],\n",
    "                'N/A'\n",
    "            ],\n",
    "            index = df_columns),\n",
    "            ignore_index=True\n",
    "        )\n",
    "        \n",
    "final_df"
   ]
  },
  {
   "cell_type": "code",
   "execution_count": null,
   "id": "c8270a09-61d7-4726-acf1-3df65ed9836e",
   "metadata": {},
   "outputs": [],
   "source": []
  }
 ],
 "metadata": {
  "kernelspec": {
   "display_name": "Python 3 (ipykernel)",
   "language": "python",
   "name": "python3"
  },
  "language_info": {
   "codemirror_mode": {
    "name": "ipython",
    "version": 3
   },
   "file_extension": ".py",
   "mimetype": "text/x-python",
   "name": "python",
   "nbconvert_exporter": "python",
   "pygments_lexer": "ipython3",
   "version": "3.7.4"
  }
 },
 "nbformat": 4,
 "nbformat_minor": 5
}
